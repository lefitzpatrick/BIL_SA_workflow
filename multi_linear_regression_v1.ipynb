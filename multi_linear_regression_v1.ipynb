{
  "nbformat": 4,
  "nbformat_minor": 0,
  "metadata": {
    "colab": {
      "provenance": [],
      "include_colab_link": true
    },
    "kernelspec": {
      "name": "python3",
      "display_name": "Python 3"
    },
    "language_info": {
      "name": "python"
    }
  },
  "cells": [
    {
      "cell_type": "markdown",
      "metadata": {
        "id": "view-in-github",
        "colab_type": "text"
      },
      "source": [
        "<a href=\"https://colab.research.google.com/github/lefitzpatrick/BIL_SA_workflow/blob/main/multi_linear_regression_v1.ipynb\" target=\"_parent\"><img src=\"https://colab.research.google.com/assets/colab-badge.svg\" alt=\"Open In Colab\"/></a>"
      ]
    },
    {
      "cell_type": "markdown",
      "source": [
        "This is a ML model that uses multivariant linear regression to predict P, E, and R. This will be a simple version of the model used to incorperate into a simple workflow for alpha/beta testing (minimum viable product).\n",
        "\n",
        "Developer: Lindsay Fitzpatrick"
      ],
      "metadata": {
        "id": "gj61XU0juxOy"
      }
    },
    {
      "cell_type": "code",
      "source": [
        "# Import libraries\n",
        "import pandas as pd\n",
        "from datetime import datetime\n",
        "from sklearn.linear_model import LinearRegression\n",
        "from sklearn.model_selection import train_test_split\n",
        "import matplotlib.pyplot as plt\n",
        "import numpy as np\n",
        "import pickle"
      ],
      "metadata": {
        "id": "MZGrKJlUvTzj"
      },
      "execution_count": 1,
      "outputs": []
    },
    {
      "cell_type": "code",
      "source": [
        "# Mount my google drive\n",
        "from google.colab import drive\n",
        "drive.mount('/content/drive')"
      ],
      "metadata": {
        "colab": {
          "base_uri": "https://localhost:8080/"
        },
        "id": "53pNYE_n_VR7",
        "outputId": "102bc610-c53f-4d13-d2ad-16c3d2dc139e"
      },
      "execution_count": 2,
      "outputs": [
        {
          "output_type": "stream",
          "name": "stdout",
          "text": [
            "Mounted at /content/drive\n"
          ]
        }
      ]
    },
    {
      "cell_type": "code",
      "source": [],
      "metadata": {
        "id": "KQSpatPUHqb9"
      },
      "execution_count": null,
      "outputs": []
    },
    {
      "cell_type": "markdown",
      "source": [
        "# Loading the data\n",
        "\n",
        "We will use NWM streamflow for total monthly runoff and CFSR for total overlake precip and evaporation."
      ],
      "metadata": {
        "id": "XYZEI-o0vdgW"
      }
    },
    {
      "cell_type": "code",
      "source": [
        "# specified lake[0] for testing but will later convert to a loop through all the lakes.\n",
        "lake = ['MiHur','Erie','Ont','Sup']"
      ],
      "metadata": {
        "id": "ZZllLNKCP377"
      },
      "execution_count": 3,
      "outputs": []
    },
    {
      "cell_type": "code",
      "source": [
        "dir = '/content/drive/MyDrive/BIL SA Project/Modeling/Data-driven Modeling/Input datasets/'\n",
        "\n",
        "data_1 = pd.read_csv(dir+lake[0]+'_dataset.csv',sep=',')\n",
        "data_1['Date'] = pd.to_datetime(data_1['Date'])\n",
        "data_1.set_index('Date', inplace=True)\n",
        "# Convert to a 2D numpy array\n",
        "#x = np.array(data_1[['R(m)','P(m)','E(m)','R(m-1)','P(m-1)','E(m-1)']]) #this can specify certain variables to use\n",
        "x = np.array(data_1) # set to read all 12 variables (P,E,R 0->3)\n",
        "x.shape"
      ],
      "metadata": {
        "colab": {
          "base_uri": "https://localhost:8080/"
        },
        "id": "iA9thkCy_fzi",
        "outputId": "861ae276-c681-477b-ea83-ef4baafb2872"
      },
      "execution_count": 4,
      "outputs": [
        {
          "output_type": "execute_result",
          "data": {
            "text/plain": [
              "(501, 12)"
            ]
          },
          "metadata": {},
          "execution_count": 4
        }
      ]
    },
    {
      "cell_type": "code",
      "source": [
        "dir = '/content/drive/MyDrive/BIL SA Project/Modeling/Inventories/Data/'\n",
        "data_2 = pd.read_csv(dir+'L2SWBM_1950-2022/'+lake[0]+'NBSC_analysis19502022_prior19001969_1m.csv',sep=',')\n",
        "data_2['Date'] = pd.to_datetime(data_2[['Year', 'Month']].assign(Day=1))\n",
        "data_2.set_index('Date', inplace=True)"
      ],
      "metadata": {
        "id": "o4CX4LCh7-ZZ"
      },
      "execution_count": 5,
      "outputs": []
    },
    {
      "cell_type": "markdown",
      "source": [
        "By merging the datasets we can select the CNBS values that correspond with the monthly values of the input data"
      ],
      "metadata": {
        "id": "KQKF58KptTJQ"
      }
    },
    {
      "cell_type": "code",
      "source": [
        "df = data_1.merge(data_2['Median'], on='Date')\n",
        "df.head()\n",
        "# Create a 1D numpy array\n",
        "y = np.array(df['Median'])\n",
        "y.shape"
      ],
      "metadata": {
        "colab": {
          "base_uri": "https://localhost:8080/"
        },
        "id": "ENagd-2psmmE",
        "outputId": "94467ff2-7ebc-4ec4-b895-ca3cec7c191a"
      },
      "execution_count": 6,
      "outputs": [
        {
          "output_type": "execute_result",
          "data": {
            "text/plain": [
              "(501,)"
            ]
          },
          "metadata": {},
          "execution_count": 6
        }
      ]
    },
    {
      "cell_type": "markdown",
      "source": [
        "Let's fit the model using split data; 80% train and 20% test (standard split)."
      ],
      "metadata": {
        "id": "kXtA4BCoGnKq"
      }
    },
    {
      "cell_type": "code",
      "source": [
        "x_train, x_test,y_train,y_test = train_test_split(x,y,test_size=0.2)\n",
        "model_type = LinearRegression()\n",
        "model = model_type.fit(x_train,y_train)"
      ],
      "metadata": {
        "id": "vygvl6QSGmYh"
      },
      "execution_count": 7,
      "outputs": []
    },
    {
      "cell_type": "markdown",
      "source": [
        "This tests the 20% testing data using the model we fit above. It prints the R2."
      ],
      "metadata": {
        "id": "FThH9vn32kLv"
      }
    },
    {
      "cell_type": "code",
      "source": [
        "y_pred = model.predict(x_test)\n",
        "r_sq_2 = model.score(x_test,y_test)\n",
        "print(r_sq_2)"
      ],
      "metadata": {
        "colab": {
          "base_uri": "https://localhost:8080/"
        },
        "id": "4N8S0sr4HkB_",
        "outputId": "ed244a4d-f3f8-4d7b-f7de-b84b5a45b272"
      },
      "execution_count": 8,
      "outputs": [
        {
          "output_type": "stream",
          "name": "stdout",
          "text": [
            "0.8679999412976183\n"
          ]
        }
      ]
    },
    {
      "cell_type": "code",
      "source": [
        "## need to save the model here to some sort of output so we can just load it in the future##\n",
        "saved_model = 'linear_regression_model.pkl'\n",
        "pickle.dump(model, open(saved_model, 'wb'))\n",
        "\n",
        "# load the model from disk\n",
        "loaded_model = pickle.load(open(saved_model, 'rb'))"
      ],
      "metadata": {
        "id": "4sliFpVwS0Iy"
      },
      "execution_count": 9,
      "outputs": []
    },
    {
      "cell_type": "code",
      "source": [
        "# Now that we saved the model, read in forecast values and run them through the model to output forecasted NBS\n",
        "x_new = np.arange(72).reshape((-1, 12)) #create a random array that will represent P, E, R. this will be replaced with forecasted data.\n",
        "y_new = loaded_model.predict(x_new)\n",
        "print('Predicted NBS for '+lake[0])\n",
        "print('Month 1:',y_new[0])\n",
        "print('Month 2:',y_new[1])\n",
        "print('Month 3:',y_new[2])\n",
        "print('Month 4:',y_new[3])\n",
        "print('Month 5:',y_new[4])\n",
        "print('Month 6:',y_new[5])"
      ],
      "metadata": {
        "id": "OdLR1hL6Vjb6",
        "colab": {
          "base_uri": "https://localhost:8080/"
        },
        "outputId": "059c3cda-e2a7-4239-b51b-a5a425163382"
      },
      "execution_count": 10,
      "outputs": [
        {
          "output_type": "stream",
          "name": "stdout",
          "text": [
            "Predicted NBS for MiHur\n",
            "Month 1: 61.27352237643299\n",
            "Month 2: 66.70349908239368\n",
            "Month 3: 72.13347578835436\n",
            "Month 4: 77.56345249431504\n",
            "Month 5: 82.99342920027573\n",
            "Month 6: 88.42340590623641\n"
          ]
        }
      ]
    },
    {
      "cell_type": "code",
      "source": [
        "## the array can then be saved as a csv file to load into another script to show figures/statistics for easy interpretation ##"
      ],
      "metadata": {
        "id": "CUW_nlm8U_8X"
      },
      "execution_count": 11,
      "outputs": []
    }
  ]
}